{
 "cells": [
  {
   "cell_type": "markdown",
   "id": "alpine-earthquake",
   "metadata": {},
   "source": [
    "# House Price Prediction with Scikit-Learn\n",
    "\n",
    "The goal of this project is to predict house prices from a set of variables explaining each home. This is a famous machine-learning challenge hosted on kaggle. It is ideal to test some ML concept on real world data. More information can be found on the competition's [kaggle-page](https://www.kaggle.com/c/house-prices-advanced-regression-techniques)."
   ]
  },
  {
   "cell_type": "code",
   "execution_count": null,
   "id": "numerous-whale",
   "metadata": {
    "tags": []
   },
   "outputs": [],
   "source": [
    "import pandas as pd\n",
    "import numpy as np\n",
    "\n",
    "import matplotlib.pyplot as plt\n",
    "import seaborn as sns\n",
    "\n",
    "# import warnings\n",
    "# warnings.simplefilter(action='ignore', category=FutureWarning)\n",
    "\n",
    "import os\n",
    "\n",
    "from sklearn.model_selection import train_test_split, GridSearchCV\n",
    "from sklearn.impute import SimpleImputer \n",
    "from sklearn.preprocessing import StandardScaler\n",
    "from sklearn.metrics import mean_squared_error\n",
    "from sklearn.pipeline import Pipeline\n",
    "from sklearn.linear_model import Ridge"
   ]
  },
  {
   "cell_type": "markdown",
   "id": "piano-drawing",
   "metadata": {},
   "source": [
    "## Dataset"
   ]
  },
  {
   "cell_type": "code",
   "execution_count": null,
   "id": "remarkable-charter",
   "metadata": {
    "tags": []
   },
   "outputs": [],
   "source": [
    "# get train and test data set\n",
    "data_loc = './data'\n",
    "\n",
    "train_data_base = pd.read_csv(os.path.join(data_loc,'train.csv'), index_col='Id')\n",
    "test_data_base = pd.read_csv(os.path.join(data_loc,'test.csv'), index_col='Id')"
   ]
  },
  {
   "cell_type": "code",
   "execution_count": null,
   "id": "smaller-scoop",
   "metadata": {
    "tags": []
   },
   "outputs": [],
   "source": [
    "train_data_base.info()"
   ]
  },
  {
   "cell_type": "code",
   "execution_count": null,
   "id": "b3bf32f7-12f0-4938-b00f-f402268f6677",
   "metadata": {
    "tags": []
   },
   "outputs": [],
   "source": [
    "target = 'SalePrice'"
   ]
  },
  {
   "cell_type": "markdown",
   "id": "e21cd8c4-c721-4b69-a5ad-e7ae38e71978",
   "metadata": {},
   "source": [
    "There are both numerical and categorical features. According to the dataset description, the following features are numerical:"
   ]
  },
  {
   "cell_type": "code",
   "execution_count": null,
   "id": "e4c1ab9f-1fd3-4282-912c-a0b4a4c30ca6",
   "metadata": {
    "tags": []
   },
   "outputs": [],
   "source": [
    "num_feat = [\n",
    "    'LotFrontage', 'LotArea', 'OverallQual', 'OverallCond', 'YearBuilt', 'YearRemodAdd',\n",
    "    'MasVnrArea', 'BsmtFinSF1', 'BsmtFinSF2', 'BsmtUnfSF', 'TotalBsmtSF', '1stFlrSF',\n",
    "    '2ndFlrSF', 'LowQualFinSF', 'GrLivArea', 'BsmtFullBath', 'BsmtHalfBath', 'FullBath',\n",
    "    'HalfBath', 'BedroomAbvGr', 'KitchenAbvGr', 'TotRmsAbvGrd', 'Fireplaces', 'GarageYrBlt', 'GarageCars',\n",
    "    'GarageArea', 'WoodDeckSF', 'OpenPorchSF', 'EnclosedPorch', '3SsnPorch', 'ScreenPorch',\n",
    "    'PoolArea', 'MiscVal', 'YrSold'\n",
    "]"
   ]
  },
  {
   "cell_type": "markdown",
   "id": "72958f6d-3cd4-411e-b0f5-d103e1ef53f6",
   "metadata": {},
   "source": [
    "## Exploratory Data Analysis"
   ]
  },
  {
   "cell_type": "code",
   "execution_count": null,
   "id": "23e09c8f-fd86-4759-9381-de6afbe5c498",
   "metadata": {
    "tags": []
   },
   "outputs": [],
   "source": [
    "ax = sns.histplot(train_data_base, x='SalePrice')\n",
    "ax.set_title('Label Distribution')\n",
    "plt.show()"
   ]
  },
  {
   "cell_type": "markdown",
   "id": "00f0c4cc-912c-4289-be96-edf51bef2f9d",
   "metadata": {},
   "source": [
    "### Numerical Features\n",
    "\n",
    "Top 10 positively and negatively correlated features:"
   ]
  },
  {
   "cell_type": "code",
   "execution_count": null,
   "id": "be8cc1c0-7705-45a7-9259-3e5db00c5788",
   "metadata": {
    "tags": []
   },
   "outputs": [],
   "source": [
    "train_data_base[num_feat+[target]].corr()['SalePrice'].sort_values(ascending=False).head(11)"
   ]
  },
  {
   "cell_type": "code",
   "execution_count": null,
   "id": "d0d33bdc-c817-4e55-a657-450c9742b481",
   "metadata": {
    "tags": []
   },
   "outputs": [],
   "source": [
    "train_data_base[num_feat+[target]].corr()['SalePrice'].sort_values(ascending=True).head(11)"
   ]
  },
  {
   "cell_type": "markdown",
   "id": "683b98cc-5752-457f-8a1b-936f3ac06d80",
   "metadata": {},
   "source": [
    "## Feature Engineering\n",
    "\n",
    "Some knowledge of the data set allows to combine some of the features into new, potentially more powerful features."
   ]
  },
  {
   "cell_type": "code",
   "execution_count": null,
   "id": "d8871b7d-1f9f-47d5-af05-76f93591e5ba",
   "metadata": {
    "tags": []
   },
   "outputs": [],
   "source": [
    "new_train_features = pd.DataFrame()\n",
    "new_test_features = pd.DataFrame()"
   ]
  },
  {
   "cell_type": "markdown",
   "id": "ab04c612-e335-48ff-9712-b224bff048b6",
   "metadata": {},
   "source": [
    "### Create New Features"
   ]
  },
  {
   "cell_type": "markdown",
   "id": "58b8cef4-0cef-4601-b0a4-727f26d61410",
   "metadata": {},
   "source": [
    "#### House Age"
   ]
  },
  {
   "cell_type": "code",
   "execution_count": null,
   "id": "8ea7e893-feef-437d-8a40-32313050008b",
   "metadata": {
    "tags": []
   },
   "outputs": [],
   "source": [
    "new_train_features['age'] = train_data_base['YrSold'] - train_data_base['YearBuilt']\n",
    "new_test_features['age'] = test_data_base['YrSold'] - test_data_base['YearBuilt']"
   ]
  },
  {
   "cell_type": "markdown",
   "id": "b697487c-d1da-4585-9e06-1b793ee29293",
   "metadata": {},
   "source": [
    "#### Total Indoor SF "
   ]
  },
  {
   "cell_type": "code",
   "execution_count": null,
   "id": "89f3b865-1f13-4f41-8077-83e2ba9fe8f6",
   "metadata": {
    "tags": []
   },
   "outputs": [],
   "source": [
    "new_train_features['indoor_sf'] = train_data_base['TotalBsmtSF'] + train_data_base['1stFlrSF'] + train_data_base['2ndFlrSF']\n",
    "new_test_features['indoor_sf'] = test_data_base['TotalBsmtSF'] + test_data_base['1stFlrSF'] + test_data_base['2ndFlrSF']"
   ]
  },
  {
   "cell_type": "markdown",
   "id": "96492ff6-71c1-4138-a1aa-bab038e1c4b1",
   "metadata": {},
   "source": [
    "#### Number of Bathrooms"
   ]
  },
  {
   "cell_type": "code",
   "execution_count": null,
   "id": "675c821a-1b18-4fd7-96d4-86de02729e3e",
   "metadata": {
    "tags": []
   },
   "outputs": [],
   "source": [
    "new_train_features['n_bath'] = train_data_base['BsmtFullBath'] + 0.5*train_data_base['BsmtHalfBath'] \\\n",
    "    + train_data_base['FullBath'] + 0.5*train_data_base['HalfBath']\n",
    "new_test_features['n_bath'] = test_data_base['BsmtFullBath'] + 0.5*test_data_base['BsmtHalfBath'] \\\n",
    "    + test_data_base['FullBath'] + 0.5*test_data_base['HalfBath']"
   ]
  },
  {
   "cell_type": "markdown",
   "id": "5eaf26bb-5ae6-43fa-8c74-df34a9273f9d",
   "metadata": {},
   "source": [
    "### Explore New Features"
   ]
  },
  {
   "cell_type": "code",
   "execution_count": null,
   "id": "2df9f24e-57f2-407c-8b3a-1104417cb46f",
   "metadata": {
    "tags": []
   },
   "outputs": [],
   "source": [
    "new_train_features.merge(train_data_base[target], left_index=True, right_index=True).corr()[target]"
   ]
  },
  {
   "cell_type": "markdown",
   "id": "459034e9-e6a8-42b4-9cb0-4ef6a4b63e98",
   "metadata": {},
   "source": [
    "Age is slightly stronger correlated than the Year the house was built in alone. The indoor square footage and the number of bathroms are among the top correlated features."
   ]
  }
 ],
 "metadata": {
  "kernelspec": {
   "display_name": "Python 3 (ipykernel)",
   "language": "python",
   "name": "python3"
  },
  "language_info": {
   "codemirror_mode": {
    "name": "ipython",
    "version": 3
   },
   "file_extension": ".py",
   "mimetype": "text/x-python",
   "name": "python",
   "nbconvert_exporter": "python",
   "pygments_lexer": "ipython3",
   "version": "3.10.13"
  }
 },
 "nbformat": 4,
 "nbformat_minor": 5
}
