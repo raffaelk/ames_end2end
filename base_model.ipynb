{
 "cells": [
  {
   "cell_type": "markdown",
   "id": "alpine-earthquake",
   "metadata": {},
   "source": [
    "# House Price Prediction with Scikit-Learn\n",
    "\n",
    "The goal of this project is to predict house prices from a set of variables explaining each home. This is a famous machine-learning challenge hosted on kaggle. It is ideal to test some ML concept on real world data. More information can be found on the competition's [kaggle-page](https://www.kaggle.com/c/house-prices-advanced-regression-techniques)."
   ]
  },
  {
   "cell_type": "code",
   "execution_count": null,
   "id": "numerous-whale",
   "metadata": {
    "tags": []
   },
   "outputs": [],
   "source": [
    "import pandas as pd\n",
    "import numpy as np\n",
    "\n",
    "import matplotlib.pyplot as plt\n",
    "import seaborn as sns\n",
    "\n",
    "# import warnings\n",
    "# warnings.simplefilter(action='ignore', category=FutureWarning)\n",
    "\n",
    "import os\n",
    "\n",
    "from sklearn.model_selection import train_test_split, GridSearchCV\n",
    "from sklearn.model_selection import cross_val_score\n",
    "from sklearn.impute import SimpleImputer \n",
    "from sklearn.preprocessing import StandardScaler\n",
    "from sklearn.metrics import mean_squared_error\n",
    "from sklearn.pipeline import Pipeline\n",
    "from sklearn.linear_model import Ridge"
   ]
  },
  {
   "cell_type": "markdown",
   "id": "piano-drawing",
   "metadata": {},
   "source": [
    "## Dataset"
   ]
  },
  {
   "cell_type": "code",
   "execution_count": null,
   "id": "remarkable-charter",
   "metadata": {
    "tags": []
   },
   "outputs": [],
   "source": [
    "# get train and test data set\n",
    "data_loc = './data'\n",
    "\n",
    "train_data_base = pd.read_csv(os.path.join(data_loc,'train.csv'), index_col='Id')\n",
    "test_data_base = pd.read_csv(os.path.join(data_loc,'test.csv'), index_col='Id')"
   ]
  },
  {
   "cell_type": "code",
   "execution_count": null,
   "id": "smaller-scoop",
   "metadata": {
    "tags": []
   },
   "outputs": [],
   "source": [
    "train_data_base.info()"
   ]
  },
  {
   "cell_type": "code",
   "execution_count": null,
   "id": "b3bf32f7-12f0-4938-b00f-f402268f6677",
   "metadata": {
    "tags": []
   },
   "outputs": [],
   "source": [
    "target = 'SalePrice'"
   ]
  },
  {
   "cell_type": "markdown",
   "id": "e21cd8c4-c721-4b69-a5ad-e7ae38e71978",
   "metadata": {},
   "source": [
    "There are both numerical and categorical features. According to the dataset description, the following features are numerical:"
   ]
  },
  {
   "cell_type": "code",
   "execution_count": null,
   "id": "e4c1ab9f-1fd3-4282-912c-a0b4a4c30ca6",
   "metadata": {
    "tags": []
   },
   "outputs": [],
   "source": [
    "num_feat = [\n",
    "    'LotFrontage', 'LotArea', 'OverallQual', 'OverallCond', 'YearBuilt', 'YearRemodAdd',\n",
    "    'MasVnrArea', 'BsmtFinSF1', 'BsmtFinSF2', 'BsmtUnfSF', 'TotalBsmtSF', '1stFlrSF',\n",
    "    '2ndFlrSF', 'LowQualFinSF', 'GrLivArea', 'BsmtFullBath', 'BsmtHalfBath', 'FullBath',\n",
    "    'HalfBath', 'BedroomAbvGr', 'KitchenAbvGr', 'TotRmsAbvGrd', 'Fireplaces', 'GarageYrBlt', 'GarageCars',\n",
    "    'GarageArea', 'WoodDeckSF', 'OpenPorchSF', 'EnclosedPorch', '3SsnPorch', 'ScreenPorch',\n",
    "    'PoolArea', 'MiscVal', 'YrSold'\n",
    "]"
   ]
  },
  {
   "cell_type": "markdown",
   "id": "72958f6d-3cd4-411e-b0f5-d103e1ef53f6",
   "metadata": {},
   "source": [
    "## Exploratory Data Analysis"
   ]
  },
  {
   "cell_type": "code",
   "execution_count": null,
   "id": "23e09c8f-fd86-4759-9381-de6afbe5c498",
   "metadata": {
    "tags": []
   },
   "outputs": [],
   "source": [
    "ax = sns.histplot(train_data_base, x='SalePrice')\n",
    "ax.set_title('Label Distribution')\n",
    "plt.show()"
   ]
  },
  {
   "cell_type": "markdown",
   "id": "00f0c4cc-912c-4289-be96-edf51bef2f9d",
   "metadata": {},
   "source": [
    "### Numerical Features\n",
    "\n",
    "Top 10 positively and negatively correlated features:"
   ]
  },
  {
   "cell_type": "code",
   "execution_count": null,
   "id": "be8cc1c0-7705-45a7-9259-3e5db00c5788",
   "metadata": {
    "tags": []
   },
   "outputs": [],
   "source": [
    "train_data_base[num_feat+[target]].corr()['SalePrice'].sort_values(ascending=False).head(11)"
   ]
  },
  {
   "cell_type": "code",
   "execution_count": null,
   "id": "d0d33bdc-c817-4e55-a657-450c9742b481",
   "metadata": {
    "tags": []
   },
   "outputs": [],
   "source": [
    "train_data_base[num_feat+[target]].corr()['SalePrice'].sort_values(ascending=True).head(11)"
   ]
  },
  {
   "cell_type": "markdown",
   "id": "683b98cc-5752-457f-8a1b-936f3ac06d80",
   "metadata": {},
   "source": [
    "## Feature Engineering\n",
    "\n",
    "Some knowledge of the data set allows to combine some of the features into new, potentially more powerful features."
   ]
  },
  {
   "cell_type": "markdown",
   "id": "ab04c612-e335-48ff-9712-b224bff048b6",
   "metadata": {},
   "source": [
    "### Create New Features"
   ]
  },
  {
   "cell_type": "code",
   "execution_count": null,
   "id": "8ea7e893-feef-437d-8a40-32313050008b",
   "metadata": {
    "tags": []
   },
   "outputs": [],
   "source": [
    "new_train_features = pd.DataFrame()\n",
    "new_test_features = pd.DataFrame()\n",
    "\n",
    "# age of the house\n",
    "new_train_features['age'] = train_data_base['YrSold'] - train_data_base['YearBuilt']\n",
    "new_test_features['age'] = test_data_base['YrSold'] - test_data_base['YearBuilt']\n",
    "\n",
    "# total indoor square footage\n",
    "new_train_features['indoor_sf'] = train_data_base['TotalBsmtSF'] + train_data_base['1stFlrSF'] + train_data_base['2ndFlrSF']\n",
    "new_test_features['indoor_sf'] = test_data_base['TotalBsmtSF'] + test_data_base['1stFlrSF'] + test_data_base['2ndFlrSF']\n",
    "\n",
    "# total number of bathrroms\n",
    "new_train_features['n_bath'] = train_data_base['BsmtFullBath'] + 0.5*train_data_base['BsmtHalfBath'] \\\n",
    "    + train_data_base['FullBath'] + 0.5*train_data_base['HalfBath']\n",
    "new_test_features['n_bath'] = test_data_base['BsmtFullBath'] + 0.5*test_data_base['BsmtHalfBath'] \\\n",
    "    + test_data_base['FullBath'] + 0.5*test_data_base['HalfBath']"
   ]
  },
  {
   "cell_type": "markdown",
   "id": "5eaf26bb-5ae6-43fa-8c74-df34a9273f9d",
   "metadata": {},
   "source": [
    "### Explore New Features"
   ]
  },
  {
   "cell_type": "code",
   "execution_count": null,
   "id": "2df9f24e-57f2-407c-8b3a-1104417cb46f",
   "metadata": {
    "tags": []
   },
   "outputs": [],
   "source": [
    "new_train_features.merge(train_data_base[target], left_index=True, right_index=True).corr()[target]"
   ]
  },
  {
   "cell_type": "markdown",
   "id": "459034e9-e6a8-42b4-9cb0-4ef6a4b63e98",
   "metadata": {},
   "source": [
    "Age is slightly stronger correlated than the Year the house was built in alone. The indoor square footage and the number of bathroms are among the top correlated features."
   ]
  },
  {
   "cell_type": "markdown",
   "id": "424353e0-6bc2-4b72-b289-5411e233309b",
   "metadata": {},
   "source": [
    "## Feature Selection"
   ]
  },
  {
   "cell_type": "code",
   "execution_count": null,
   "id": "5ba70311-25a8-4460-9cfd-c266f428c2c4",
   "metadata": {
    "tags": []
   },
   "outputs": [],
   "source": [
    "features_selected = ['n_bath', 'age', 'indoor_sf', 'OverallQual', 'GrLivArea', 'GarageCars']\n",
    "\n",
    "train_data = new_train_features.merge(train_data_base, left_index=True, right_index=True)[features_selected+[target]]\n",
    "test_data = new_test_features.merge(test_data_base, left_index=True, right_index=True)[features_selected]"
   ]
  },
  {
   "cell_type": "code",
   "execution_count": null,
   "id": "601e3ee4-1598-4b12-9b7d-36af1fe4184a",
   "metadata": {
    "tags": []
   },
   "outputs": [],
   "source": [
    "train_data.isna().sum()"
   ]
  },
  {
   "cell_type": "markdown",
   "id": "f683fef1-a8af-4fee-9142-ca061d3e3fdb",
   "metadata": {},
   "source": [
    "## ML Pipeline"
   ]
  },
  {
   "cell_type": "code",
   "execution_count": null,
   "id": "50b05e84-e109-440d-8793-f78c0ed61801",
   "metadata": {
    "tags": []
   },
   "outputs": [],
   "source": [
    "# define train and test data\n",
    "X_train = train_data.drop(target, axis=1).to_numpy()\n",
    "y_train = np.log(train_data[target]).to_numpy()\n",
    "\n",
    "X_test = test_data.to_numpy()"
   ]
  },
  {
   "cell_type": "code",
   "execution_count": null,
   "id": "e9951c63-7d75-49eb-9131-1014d236f426",
   "metadata": {
    "tags": []
   },
   "outputs": [],
   "source": [
    "# set up the ML pipeline\n",
    "\n",
    "# imputing strategy for missing values\n",
    "imputer = SimpleImputer(missing_values=np.nan)\n",
    "\n",
    "# scale values\n",
    "scaler = StandardScaler()\n",
    "\n",
    "# regression\n",
    "regressor = Ridge()\n",
    "\n",
    "# pipeline\n",
    "pipe = Pipeline([('imputer', imputer), ('scaler', scaler), ('regressor', regressor)])"
   ]
  },
  {
   "cell_type": "code",
   "execution_count": null,
   "id": "05f76608-3863-4aed-995e-3a928c31bddf",
   "metadata": {
    "tags": []
   },
   "outputs": [],
   "source": [
    "# tune hyperparameters with cross validation\n",
    "param_grid = {'regressor__alpha':[0.001, 0.01, 0.1, 1, 10, 50, 100, 500, 1000], \n",
    "              'imputer__strategy':['mean', 'median']}\n",
    "\n",
    "search = GridSearchCV(pipe, param_grid, scoring='neg_mean_squared_error', n_jobs=-1)\n",
    "search.fit(X_train,y_train)\n",
    "\n",
    "print(search.best_params_)"
   ]
  },
  {
   "cell_type": "code",
   "execution_count": null,
   "id": "5e9131b2-f884-4eb5-bdd7-3d020a7a397b",
   "metadata": {
    "tags": []
   },
   "outputs": [],
   "source": [
    "# extract the best model\n",
    "best_pipe = search.best_estimator_"
   ]
  },
  {
   "cell_type": "markdown",
   "id": "3defe21d-301b-4502-b4b6-6cc752b2e026",
   "metadata": {},
   "source": [
    "## Evaluate Model"
   ]
  },
  {
   "cell_type": "code",
   "execution_count": null,
   "id": "28398abf-0efc-4399-9b17-d773834e5ea5",
   "metadata": {
    "tags": []
   },
   "outputs": [],
   "source": [
    "cv_scores = cross_val_score(best_pipe, X_train, y_train, cv=5, scoring='neg_mean_squared_error')\n",
    "display(cv_scores)"
   ]
  },
  {
   "cell_type": "code",
   "execution_count": null,
   "id": "8acd65b9-649c-4e53-871c-3a4fdc813f51",
   "metadata": {
    "tags": []
   },
   "outputs": [],
   "source": [
    "np.sqrt(-1*cv_scores.mean())"
   ]
  },
  {
   "cell_type": "code",
   "execution_count": null,
   "id": "f5febd80-5268-4c6e-84aa-5c9544fd5042",
   "metadata": {
    "tags": []
   },
   "outputs": [],
   "source": [
    "# predict the prices for the test set\n",
    "y_test_pred = np.exp(best_pipe.predict(X_test))"
   ]
  },
  {
   "cell_type": "code",
   "execution_count": null,
   "id": "de76d927-f031-4e00-8444-d7cb59e7ab25",
   "metadata": {
    "tags": []
   },
   "outputs": [],
   "source": [
    "# create the submission file for the kaggle competition\n",
    "submission = pd.DataFrame(y_test_pred, columns=['SalePrice'])\n",
    "submission['Id'] = test_data_base.index\n",
    "submission['Id'].astype('int')\n",
    "\n",
    "submission.to_csv(os.path.join(data_loc,'submission.csv'), index=None)"
   ]
  }
 ],
 "metadata": {
  "kernelspec": {
   "display_name": "Python 3 (ipykernel)",
   "language": "python",
   "name": "python3"
  },
  "language_info": {
   "codemirror_mode": {
    "name": "ipython",
    "version": 3
   },
   "file_extension": ".py",
   "mimetype": "text/x-python",
   "name": "python",
   "nbconvert_exporter": "python",
   "pygments_lexer": "ipython3",
   "version": "3.10.13"
  }
 },
 "nbformat": 4,
 "nbformat_minor": 5
}
